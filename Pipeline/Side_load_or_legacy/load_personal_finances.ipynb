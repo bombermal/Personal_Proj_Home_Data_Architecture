{
 "cells": [
  {
   "cell_type": "code",
   "execution_count": 26,
   "metadata": {},
   "outputs": [],
   "source": [
    "import pandas as pd\n",
    "from unidecode import unidecode\n",
    "from string import Template\n",
    "from sqlalchemy import create_engine"
   ]
  },
  {
   "cell_type": "code",
   "execution_count": 18,
   "metadata": {},
   "outputs": [],
   "source": [
    "raw_df = pd.read_csv('..\\Data_preparation\\Ready_to_load\\entrada_saida_2020_2022.csv', parse_dates=[\"Data\"])\n",
    "raw_cc_df = pd.read_csv('..\\Data_preparation\\Ready_to_load\\cartoes_2020_2022.csv', parse_dates=[\"Data\"])"
   ]
  },
  {
   "cell_type": "code",
   "execution_count": 23,
   "metadata": {},
   "outputs": [],
   "source": [
    "connection_dict = {\"USER\": \"postgres\", \"PASSWORD\": \"postgres\", \"HOST\": \"localhost\",\\\n",
    "                        \"PORT\": \"5432\", \"DB\": \"ivan\", \"SCHEMA\": \"finance_legacy\"}\n",
    "\n",
    "# SQL alchemy connection\n",
    "con_query = Template(\"postgresql://$USER:$PASSWORD@$HOST:$PORT/$DB\")\n",
    "connection = create_engine(con_query.substitute(connection_dict))\n",
    "\n",
    "#"
   ]
  },
  {
   "cell_type": "code",
   "execution_count": 33,
   "metadata": {},
   "outputs": [
    {
     "data": {
      "text/plain": [
       "223"
      ]
     },
     "execution_count": 33,
     "metadata": {},
     "output_type": "execute_result"
    }
   ],
   "source": [
    "new_cols = lambda cols: [ unidecode(ii).lower().replace(\" \", \"_\") for ii in cols]\n",
    "raw_df.columns = new_cols(raw_df.columns)\n",
    "raw_cc_df.columns = new_cols(raw_cc_df.columns)\n",
    "# Inset data into database\n",
    "raw_df.to_sql('entrada_saida', con=connection, schema=connection_dict['SCHEMA'], if_exists='replace', index=False)\n",
    "raw_cc_df.to_sql(\"cartoes\", con=connection, schema=connection_dict['SCHEMA'], if_exists='replace', index=False)"
   ]
  },
  {
   "cell_type": "code",
   "execution_count": null,
   "metadata": {},
   "outputs": [],
   "source": []
  }
 ],
 "metadata": {
  "kernelspec": {
   "display_name": "home_data_architecture",
   "language": "python",
   "name": "python3"
  },
  "language_info": {
   "codemirror_mode": {
    "name": "ipython",
    "version": 3
   },
   "file_extension": ".py",
   "mimetype": "text/x-python",
   "name": "python",
   "nbconvert_exporter": "python",
   "pygments_lexer": "ipython3",
   "version": "3.10.9"
  },
  "orig_nbformat": 4,
  "vscode": {
   "interpreter": {
    "hash": "957036f25e76e451e7d3f8c4397dd7f894fded3a8fa090b642e154d498e6f930"
   }
  }
 },
 "nbformat": 4,
 "nbformat_minor": 2
}
